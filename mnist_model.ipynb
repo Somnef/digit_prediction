{
 "cells": [
  {
   "cell_type": "markdown",
   "id": "59af6f11",
   "metadata": {},
   "source": [
    "## Imports"
   ]
  },
  {
   "cell_type": "code",
   "execution_count": 1,
   "id": "89bafa3c",
   "metadata": {},
   "outputs": [],
   "source": [
    "import numpy as np\n",
    "import pandas as pd\n",
    "\n",
    "import torch\n",
    "import torchvision\n",
    "\n",
    "import matplotlib.pyplot as plt"
   ]
  },
  {
   "cell_type": "markdown",
   "id": "c647a267",
   "metadata": {},
   "source": [
    "## Device choice"
   ]
  },
  {
   "cell_type": "code",
   "execution_count": 2,
   "id": "9d231d03",
   "metadata": {},
   "outputs": [
    {
     "data": {
      "text/plain": [
       "'cuda'"
      ]
     },
     "execution_count": 2,
     "metadata": {},
     "output_type": "execute_result"
    }
   ],
   "source": [
    "device = \"cuda\" if torch.cuda.is_available() else \"cpu\"\n",
    "device"
   ]
  },
  {
   "cell_type": "markdown",
   "id": "5802ff36",
   "metadata": {},
   "source": [
    "## Data preparation"
   ]
  },
  {
   "cell_type": "code",
   "execution_count": 3,
   "id": "26514760",
   "metadata": {},
   "outputs": [],
   "source": [
    "def get_mean_std(dataset):\n",
    "    mean = 0\n",
    "    squared_mean = 0\n",
    "\n",
    "    for i in range(len(dataset)):\n",
    "        x = dataset[i][0].reshape(1, -1)\n",
    "        mean += x.mean()\n",
    "        squared_mean += (x**2).mean()\n",
    "\n",
    "    mean /= len(dataset)\n",
    "    squared_mean /= len(dataset)\n",
    "\n",
    "    std = (squared_mean - mean ** 2) ** 0.5\n",
    "    \n",
    "    return mean, std\n",
    "\n",
    "# Pass this as a transform to dataset\n",
    "class AddGaussianNoise(object):\n",
    "    def __init__(self, mean=0., std=1.):\n",
    "        self.std = std\n",
    "        self.mean = mean\n",
    "        \n",
    "    def __call__(self, tensor):\n",
    "        return tensor + torch.randn(tensor.size()) * self.std + self.mean\n",
    "    \n",
    "    def __repr__(self):\n",
    "        return self.__class__.__name__ + '(mean={0}, std={1})'.format(self.mean, self.std)"
   ]
  },
  {
   "cell_type": "code",
   "execution_count": 4,
   "id": "80274451",
   "metadata": {
    "scrolled": true
   },
   "outputs": [],
   "source": [
    "train_mnist = torchvision.datasets.MNIST('/files/', \n",
    "                                         train=True,\n",
    "                                         transform=torchvision.transforms.Compose([\n",
    "                                             torchvision.transforms.ToTensor(),\n",
    "                                         ]),\n",
    "                                         download=True)\n",
    "\n",
    "test_mnist = torchvision.datasets.MNIST('/files/', \n",
    "                                        train=False, \n",
    "                                        transform=torchvision.transforms.Compose([\n",
    "                                            torchvision.transforms.ToTensor(),\n",
    "                                        ]),\n",
    "                                        download=True)\n",
    "\n",
    "mean, std = get_mean_std(train_mnist)\n",
    "\n",
    "train_mnist = torchvision.datasets.MNIST('/files/', \n",
    "                                         train=True,\n",
    "                                         transform=torchvision.transforms.Compose([\n",
    "                                             torchvision.transforms.ToTensor(),\n",
    "                                             torchvision.transforms.Normalize((mean,), (std,)),\n",
    "                                             AddGaussianNoise(0., 1.),\n",
    "                                         ]),\n",
    "                                         download=True)\n",
    "\n",
    "test_mnist = torchvision.datasets.MNIST('/files/', \n",
    "                                        train=False, \n",
    "                                        transform=torchvision.transforms.Compose([\n",
    "                                            torchvision.transforms.ToTensor(),\n",
    "                                            torchvision.transforms.Normalize((mean,), (std,)),\n",
    "                                        ]),\n",
    "                                        download=True)"
   ]
  },
  {
   "cell_type": "markdown",
   "id": "ed4def03",
   "metadata": {},
   "source": [
    "## Model"
   ]
  },
  {
   "cell_type": "markdown",
   "id": "6dfffbd5",
   "metadata": {},
   "source": [
    "### Training step function creator"
   ]
  },
  {
   "cell_type": "code",
   "execution_count": 5,
   "id": "e5c80a44",
   "metadata": {},
   "outputs": [],
   "source": [
    "def make_train_step(model, loss_fn, optimizer):\n",
    "    def train_step(x, y):\n",
    "        model.train()\n",
    "        \n",
    "        y_hat = model(x)\n",
    "        \n",
    "        loss = loss_fn(y_hat, y)\n",
    "        loss.backward()\n",
    "        \n",
    "        accuracy = (y_hat.argmax(axis=1) == y).float().mean().item()\n",
    "        \n",
    "        optimizer.step()\n",
    "        optimizer.zero_grad()\n",
    "        \n",
    "        return loss.item(), accuracy\n",
    "    \n",
    "    return train_step"
   ]
  },
  {
   "cell_type": "markdown",
   "id": "22d58250",
   "metadata": {},
   "source": [
    "### Model definition"
   ]
  },
  {
   "cell_type": "code",
   "execution_count": 6,
   "id": "7e32345a",
   "metadata": {},
   "outputs": [],
   "source": [
    "model = torch.nn.Sequential(\n",
    "    torch.nn.Conv2d(in_channels=1, out_channels=10, kernel_size=(5, 5)),\n",
    "    torch.nn.MaxPool2d(2),\n",
    "    torch.nn.ReLU(),\n",
    "    \n",
    "    torch.nn.Conv2d(in_channels=10, out_channels=20, kernel_size=(5, 5)),\n",
    "    torch.nn.Dropout2d(),\n",
    "    torch.nn.MaxPool2d(2),\n",
    "    torch.nn.ReLU(),\n",
    "    \n",
    "    torch.nn.Flatten(),\n",
    "    \n",
    "    torch.nn.Linear(320, 50),\n",
    "    torch.nn.ReLU(),\n",
    "    \n",
    "    torch.nn.Linear(50, 10),\n",
    "    torch.nn.LogSoftmax(),\n",
    ").to(device)"
   ]
  },
  {
   "cell_type": "markdown",
   "id": "bc1f426c",
   "metadata": {},
   "source": [
    "### Hyperparameters definition"
   ]
  },
  {
   "cell_type": "code",
   "execution_count": 7,
   "id": "20de5a42",
   "metadata": {},
   "outputs": [],
   "source": [
    "nb_epochs = 10\n",
    "\n",
    "lr = 1e-2\n",
    "momentum = 0.5\n",
    "loss_reduction='mean'\n",
    "\n",
    "train_batch_size = 60\n",
    "test_batch_size = 120\n",
    "\n",
    "log_interval = 100\n",
    "\n",
    "train_loader = torch.utils.data.DataLoader(train_mnist, batch_size=train_batch_size, shuffle=True)\n",
    "test_loader = torch.utils.data.DataLoader(test_mnist, batch_size=test_batch_size, shuffle=True)\n",
    "\n",
    "# loss_fn = torch.nn.CrossEntropyLoss(reduction=loss_reduction)\n",
    "loss_fn = torch.nn.NLLLoss()\n",
    "optimizer = torch.optim.SGD(model.parameters(), lr=lr, momentum=momentum)\n",
    "\n",
    "train_step = make_train_step(model, loss_fn, optimizer)"
   ]
  },
  {
   "cell_type": "markdown",
   "id": "78367106",
   "metadata": {},
   "source": [
    "## Training & Testing"
   ]
  },
  {
   "cell_type": "code",
   "execution_count": 8,
   "id": "73e3fa7f",
   "metadata": {},
   "outputs": [],
   "source": [
    "def train(train_step_fn, train_loader, train_losses, train_accuracies, train_counter, epoch, log_interval):\n",
    "    for batch_idx, (x_train, y_train) in enumerate(train_loader):\n",
    "        x_train = x_train.to(device)\n",
    "        y_train = y_train.to(device)\n",
    "        \n",
    "        loss, accuracy = train_step_fn(x_train, y_train)\n",
    "        \n",
    "        if batch_idx % log_interval == 0:\n",
    "            train_losses.append(loss)\n",
    "            train_accuracies.append(accuracy)\n",
    "            train_counter.append((epoch-1) * len(train_loader.dataset) + batch_idx * len(x_train))\n",
    "            \n",
    "            print(f\"Training epoch #{epoch} ({batch_idx * train_batch_size + len(x_train)}\"\\\n",
    "                  f\"/ {len(train_loader.dataset)}) ({(100. * batch_idx / len(train_loader)):.0f}%)\"\\\n",
    "                  f\" - Loss = {loss:.6f} - Accurary = {(100 * accuracy):.2f}%\")\n",
    "    print(\"\")\n",
    "            \n",
    "\n",
    "def test(test_loader, test_losses, test_accuracies, epoch):\n",
    "    test_loss = 0\n",
    "    test_accu = 0\n",
    "    with torch.no_grad():\n",
    "        for x_test, y_test in test_loader:\n",
    "            x_test = x_test.to(device)\n",
    "            y_test = y_test.to(device)\n",
    "            \n",
    "            model.eval()\n",
    "\n",
    "            y_hat = model(x_test)\n",
    "            \n",
    "            test_loss += loss_fn(y_hat, y_test).item()\n",
    "            test_accu += (y_hat.argmax(axis=1) == y_test).float().mean().item()\n",
    "        \n",
    "        test_loss /= len(test_loader)\n",
    "        test_losses.append(test_loss)\n",
    "        \n",
    "        test_accu /= len(test_loader)\n",
    "        test_accuracies.append(test_accu)\n",
    "        \n",
    "        if epoch == 0:\n",
    "            print(f\"Test - No training yet - Avg. loss = {test_loss:.6f} - Avg. Accu = {(100 * test_accu):.2f}%\")\n",
    "        else:\n",
    "            print(f\"Test epoch #{epoch} - Avg. loss = {test_loss:.6f} - Avg. Accu = {(100 * test_accu):.2f}%\")\n",
    "            \n",
    "        print(\"---------------------------------------------\\n\\n\")"
   ]
  },
  {
   "cell_type": "code",
   "execution_count": 9,
   "id": "68c28210",
   "metadata": {},
   "outputs": [],
   "source": [
    "train_losses = []\n",
    "train_accuracies = []\n",
    "train_counter = []\n",
    "\n",
    "test_losses = []\n",
    "test_accuracies = []\n",
    "test_counter = []\n",
    "\n",
    "last_epoch = 1"
   ]
  },
  {
   "cell_type": "code",
   "execution_count": 10,
   "id": "4aff2822",
   "metadata": {},
   "outputs": [
    {
     "name": "stderr",
     "output_type": "stream",
     "text": [
      "D:\\anaconda3\\envs\\pytorch_env\\lib\\site-packages\\torch\\nn\\modules\\container.py:139: UserWarning: Implicit dimension choice for log_softmax has been deprecated. Change the call to include dim=X as an argument.\n",
      "  input = module(input)\n"
     ]
    },
    {
     "name": "stdout",
     "output_type": "stream",
     "text": [
      "Test - No training yet - Avg. loss = 2.315295 - Avg. Accu = 10.10%\n",
      "---------------------------------------------\n",
      "\n",
      "\n",
      "Training epoch #1 (60/ 60000) (0%) - Loss = 2.394593 - Accurary = 5.00%\n",
      "Training epoch #1 (6060/ 60000) (10%) - Loss = 1.816393 - Accurary = 36.67%\n",
      "Training epoch #1 (12060/ 60000) (20%) - Loss = 0.741652 - Accurary = 85.00%\n",
      "Training epoch #1 (18060/ 60000) (30%) - Loss = 0.802587 - Accurary = 83.33%\n",
      "Training epoch #1 (24060/ 60000) (40%) - Loss = 0.450634 - Accurary = 85.00%\n",
      "Training epoch #1 (30060/ 60000) (50%) - Loss = 0.458764 - Accurary = 91.67%\n",
      "Training epoch #1 (36060/ 60000) (60%) - Loss = 0.335620 - Accurary = 91.67%\n",
      "Training epoch #1 (42060/ 60000) (70%) - Loss = 0.271896 - Accurary = 95.00%\n",
      "Training epoch #1 (48060/ 60000) (80%) - Loss = 0.623138 - Accurary = 80.00%\n",
      "Training epoch #1 (54060/ 60000) (90%) - Loss = 0.507188 - Accurary = 90.00%\n",
      "\n",
      "Test epoch #1 - Avg. loss = 0.178963 - Avg. Accu = 94.49%\n",
      "---------------------------------------------\n",
      "\n",
      "\n",
      "Training epoch #2 (60/ 60000) (0%) - Loss = 0.208466 - Accurary = 91.67%\n",
      "Training epoch #2 (6060/ 60000) (10%) - Loss = 0.471992 - Accurary = 85.00%\n",
      "Training epoch #2 (12060/ 60000) (20%) - Loss = 0.210376 - Accurary = 91.67%\n",
      "Training epoch #2 (18060/ 60000) (30%) - Loss = 0.255135 - Accurary = 91.67%\n",
      "Training epoch #2 (24060/ 60000) (40%) - Loss = 0.328240 - Accurary = 91.67%\n",
      "Training epoch #2 (30060/ 60000) (50%) - Loss = 0.157816 - Accurary = 95.00%\n",
      "Training epoch #2 (36060/ 60000) (60%) - Loss = 0.172156 - Accurary = 93.33%\n",
      "Training epoch #2 (42060/ 60000) (70%) - Loss = 0.311577 - Accurary = 91.67%\n",
      "Training epoch #2 (48060/ 60000) (80%) - Loss = 0.216841 - Accurary = 91.67%\n",
      "Training epoch #2 (54060/ 60000) (90%) - Loss = 0.240987 - Accurary = 95.00%\n",
      "\n",
      "Test epoch #2 - Avg. loss = 0.116368 - Avg. Accu = 96.77%\n",
      "---------------------------------------------\n",
      "\n",
      "\n",
      "Training epoch #3 (60/ 60000) (0%) - Loss = 0.316537 - Accurary = 91.67%\n",
      "Training epoch #3 (6060/ 60000) (10%) - Loss = 0.135496 - Accurary = 93.33%\n",
      "Training epoch #3 (12060/ 60000) (20%) - Loss = 0.155317 - Accurary = 93.33%\n",
      "Training epoch #3 (18060/ 60000) (30%) - Loss = 0.140892 - Accurary = 96.67%\n",
      "Training epoch #3 (24060/ 60000) (40%) - Loss = 0.254372 - Accurary = 90.00%\n",
      "Training epoch #3 (30060/ 60000) (50%) - Loss = 0.119303 - Accurary = 96.67%\n",
      "Training epoch #3 (36060/ 60000) (60%) - Loss = 0.254801 - Accurary = 93.33%\n",
      "Training epoch #3 (42060/ 60000) (70%) - Loss = 0.151537 - Accurary = 96.67%\n",
      "Training epoch #3 (48060/ 60000) (80%) - Loss = 0.152692 - Accurary = 96.67%\n",
      "Training epoch #3 (54060/ 60000) (90%) - Loss = 0.181752 - Accurary = 93.33%\n",
      "\n",
      "Test epoch #3 - Avg. loss = 0.084193 - Avg. Accu = 97.33%\n",
      "---------------------------------------------\n",
      "\n",
      "\n",
      "Training epoch #4 (60/ 60000) (0%) - Loss = 0.299593 - Accurary = 95.00%\n",
      "Training epoch #4 (6060/ 60000) (10%) - Loss = 0.152189 - Accurary = 91.67%\n",
      "Training epoch #4 (12060/ 60000) (20%) - Loss = 0.086574 - Accurary = 98.33%\n",
      "Training epoch #4 (18060/ 60000) (30%) - Loss = 0.142127 - Accurary = 93.33%\n",
      "Training epoch #4 (24060/ 60000) (40%) - Loss = 0.139308 - Accurary = 93.33%\n",
      "Training epoch #4 (30060/ 60000) (50%) - Loss = 0.081091 - Accurary = 98.33%\n",
      "Training epoch #4 (36060/ 60000) (60%) - Loss = 0.218585 - Accurary = 91.67%\n",
      "Training epoch #4 (42060/ 60000) (70%) - Loss = 0.256645 - Accurary = 95.00%\n",
      "Training epoch #4 (48060/ 60000) (80%) - Loss = 0.259077 - Accurary = 90.00%\n",
      "Training epoch #4 (54060/ 60000) (90%) - Loss = 0.058864 - Accurary = 96.67%\n",
      "\n",
      "Test epoch #4 - Avg. loss = 0.070369 - Avg. Accu = 97.79%\n",
      "---------------------------------------------\n",
      "\n",
      "\n",
      "Training epoch #5 (60/ 60000) (0%) - Loss = 0.160666 - Accurary = 93.33%\n",
      "Training epoch #5 (6060/ 60000) (10%) - Loss = 0.185131 - Accurary = 93.33%\n",
      "Training epoch #5 (12060/ 60000) (20%) - Loss = 0.102172 - Accurary = 96.67%\n",
      "Training epoch #5 (18060/ 60000) (30%) - Loss = 0.188648 - Accurary = 93.33%\n",
      "Training epoch #5 (24060/ 60000) (40%) - Loss = 0.231298 - Accurary = 95.00%\n",
      "Training epoch #5 (30060/ 60000) (50%) - Loss = 0.226045 - Accurary = 95.00%\n",
      "Training epoch #5 (36060/ 60000) (60%) - Loss = 0.199188 - Accurary = 90.00%\n",
      "Training epoch #5 (42060/ 60000) (70%) - Loss = 0.100359 - Accurary = 95.00%\n",
      "Training epoch #5 (48060/ 60000) (80%) - Loss = 0.094182 - Accurary = 96.67%\n",
      "Training epoch #5 (54060/ 60000) (90%) - Loss = 0.190306 - Accurary = 95.00%\n",
      "\n",
      "Test epoch #5 - Avg. loss = 0.062834 - Avg. Accu = 98.08%\n",
      "---------------------------------------------\n",
      "\n",
      "\n",
      "Training epoch #6 (60/ 60000) (0%) - Loss = 0.157345 - Accurary = 95.00%\n",
      "Training epoch #6 (6060/ 60000) (10%) - Loss = 0.016863 - Accurary = 100.00%\n",
      "Training epoch #6 (12060/ 60000) (20%) - Loss = 0.209360 - Accurary = 96.67%\n",
      "Training epoch #6 (18060/ 60000) (30%) - Loss = 0.135604 - Accurary = 98.33%\n",
      "Training epoch #6 (24060/ 60000) (40%) - Loss = 0.174727 - Accurary = 91.67%\n",
      "Training epoch #6 (30060/ 60000) (50%) - Loss = 0.091112 - Accurary = 96.67%\n",
      "Training epoch #6 (36060/ 60000) (60%) - Loss = 0.099333 - Accurary = 96.67%\n",
      "Training epoch #6 (42060/ 60000) (70%) - Loss = 0.167722 - Accurary = 93.33%\n",
      "Training epoch #6 (48060/ 60000) (80%) - Loss = 0.159949 - Accurary = 91.67%\n",
      "Training epoch #6 (54060/ 60000) (90%) - Loss = 0.236390 - Accurary = 95.00%\n",
      "\n",
      "Test epoch #6 - Avg. loss = 0.056981 - Avg. Accu = 98.17%\n",
      "---------------------------------------------\n",
      "\n",
      "\n",
      "Training epoch #7 (60/ 60000) (0%) - Loss = 0.190706 - Accurary = 91.67%\n",
      "Training epoch #7 (6060/ 60000) (10%) - Loss = 0.126529 - Accurary = 96.67%\n",
      "Training epoch #7 (12060/ 60000) (20%) - Loss = 0.233829 - Accurary = 95.00%\n",
      "Training epoch #7 (18060/ 60000) (30%) - Loss = 0.165305 - Accurary = 95.00%\n",
      "Training epoch #7 (24060/ 60000) (40%) - Loss = 0.158249 - Accurary = 93.33%\n",
      "Training epoch #7 (30060/ 60000) (50%) - Loss = 0.166050 - Accurary = 93.33%\n",
      "Training epoch #7 (36060/ 60000) (60%) - Loss = 0.156617 - Accurary = 93.33%\n",
      "Training epoch #7 (42060/ 60000) (70%) - Loss = 0.208878 - Accurary = 91.67%\n",
      "Training epoch #7 (48060/ 60000) (80%) - Loss = 0.244062 - Accurary = 96.67%\n",
      "Training epoch #7 (54060/ 60000) (90%) - Loss = 0.022770 - Accurary = 100.00%\n",
      "\n",
      "Test epoch #7 - Avg. loss = 0.052538 - Avg. Accu = 98.23%\n",
      "---------------------------------------------\n",
      "\n",
      "\n",
      "Training epoch #8 (60/ 60000) (0%) - Loss = 0.099016 - Accurary = 96.67%\n",
      "Training epoch #8 (6060/ 60000) (10%) - Loss = 0.158512 - Accurary = 96.67%\n",
      "Training epoch #8 (12060/ 60000) (20%) - Loss = 0.045091 - Accurary = 100.00%\n",
      "Training epoch #8 (18060/ 60000) (30%) - Loss = 0.091280 - Accurary = 96.67%\n",
      "Training epoch #8 (24060/ 60000) (40%) - Loss = 0.097411 - Accurary = 95.00%\n",
      "Training epoch #8 (30060/ 60000) (50%) - Loss = 0.061860 - Accurary = 98.33%\n",
      "Training epoch #8 (36060/ 60000) (60%) - Loss = 0.212672 - Accurary = 93.33%\n",
      "Training epoch #8 (42060/ 60000) (70%) - Loss = 0.137673 - Accurary = 98.33%\n",
      "Training epoch #8 (48060/ 60000) (80%) - Loss = 0.127895 - Accurary = 93.33%\n",
      "Training epoch #8 (54060/ 60000) (90%) - Loss = 0.054291 - Accurary = 100.00%\n",
      "\n",
      "Test epoch #8 - Avg. loss = 0.049642 - Avg. Accu = 98.37%\n",
      "---------------------------------------------\n",
      "\n",
      "\n",
      "Training epoch #9 (60/ 60000) (0%) - Loss = 0.123369 - Accurary = 93.33%\n",
      "Training epoch #9 (6060/ 60000) (10%) - Loss = 0.185160 - Accurary = 95.00%\n",
      "Training epoch #9 (12060/ 60000) (20%) - Loss = 0.073129 - Accurary = 96.67%\n",
      "Training epoch #9 (18060/ 60000) (30%) - Loss = 0.051609 - Accurary = 98.33%\n",
      "Training epoch #9 (24060/ 60000) (40%) - Loss = 0.193532 - Accurary = 95.00%\n",
      "Training epoch #9 (30060/ 60000) (50%) - Loss = 0.348776 - Accurary = 93.33%\n",
      "Training epoch #9 (36060/ 60000) (60%) - Loss = 0.108521 - Accurary = 96.67%\n",
      "Training epoch #9 (42060/ 60000) (70%) - Loss = 0.060448 - Accurary = 98.33%\n",
      "Training epoch #9 (48060/ 60000) (80%) - Loss = 0.214148 - Accurary = 91.67%\n",
      "Training epoch #9 (54060/ 60000) (90%) - Loss = 0.157922 - Accurary = 95.00%\n",
      "\n",
      "Test epoch #9 - Avg. loss = 0.048963 - Avg. Accu = 98.31%\n",
      "---------------------------------------------\n",
      "\n",
      "\n",
      "Training epoch #10 (60/ 60000) (0%) - Loss = 0.124793 - Accurary = 93.33%\n",
      "Training epoch #10 (6060/ 60000) (10%) - Loss = 0.213029 - Accurary = 91.67%\n",
      "Training epoch #10 (12060/ 60000) (20%) - Loss = 0.247781 - Accurary = 95.00%\n"
     ]
    },
    {
     "name": "stdout",
     "output_type": "stream",
     "text": [
      "Training epoch #10 (18060/ 60000) (30%) - Loss = 0.051447 - Accurary = 96.67%\n",
      "Training epoch #10 (24060/ 60000) (40%) - Loss = 0.028145 - Accurary = 100.00%\n",
      "Training epoch #10 (30060/ 60000) (50%) - Loss = 0.043949 - Accurary = 100.00%\n",
      "Training epoch #10 (36060/ 60000) (60%) - Loss = 0.169804 - Accurary = 95.00%\n",
      "Training epoch #10 (42060/ 60000) (70%) - Loss = 0.095358 - Accurary = 96.67%\n",
      "Training epoch #10 (48060/ 60000) (80%) - Loss = 0.075059 - Accurary = 96.67%\n",
      "Training epoch #10 (54060/ 60000) (90%) - Loss = 0.158249 - Accurary = 90.00%\n",
      "\n",
      "Test epoch #10 - Avg. loss = 0.045457 - Avg. Accu = 98.41%\n",
      "---------------------------------------------\n",
      "\n",
      "\n"
     ]
    }
   ],
   "source": [
    "# If model hasn't been trained yet, do a test (as a reference)\n",
    "if last_epoch == 1:\n",
    "    test(test_loader, test_losses, test_accuracies, 0)\n",
    "    test_counter.append(0)\n",
    "\n",
    "for epoch in range(last_epoch, last_epoch + nb_epochs):\n",
    "    # Train\n",
    "    train(train_step, train_loader, train_losses, train_accuracies, train_counter, epoch, log_interval)\n",
    "    \n",
    "    # Test\n",
    "    test(test_loader, test_losses, test_accuracies, epoch)\n",
    "    test_counter.append(epoch * len(train_loader.dataset))\n",
    "            \n",
    "last_epoch = epoch"
   ]
  },
  {
   "cell_type": "markdown",
   "id": "3196262c",
   "metadata": {},
   "source": [
    "## Plots"
   ]
  },
  {
   "cell_type": "code",
   "execution_count": 11,
   "id": "d861ea05",
   "metadata": {
    "scrolled": false
   },
   "outputs": [
    {
     "data": {
      "image/png": "[encoded data removed]",
      "text/plain": [
       "<Figure size 1080x360 with 1 Axes>"
      ]
     },
     "metadata": {
      "needs_background": "dark"
     },
     "output_type": "display_data"
    }
   ],
   "source": [
    "plt.figure(figsize=(15, 5))\n",
    "\n",
    "plt.plot(train_counter, train_losses, color='blue', label='Train')\n",
    "plt.plot(test_counter, test_losses, color='orange', label='Test')\n",
    "\n",
    "plt.setp(plt.title(\"Train/Test loss per # of images trained on\"), color='white')\n",
    "plt.setp(plt.xlabel(\"# of images trained on\"), color='white')\n",
    "plt.setp(plt.ylabel(\"NLLLoss\"), color='white')\n",
    "\n",
    "plt.legend(loc='upper right')\n",
    "\n",
    "plt.ylim([0, max(train_losses + test_losses) * 1.1])\n",
    "\n",
    "plt.tick_params(colors='white')"
   ]
  },
  {
   "cell_type": "code",
   "execution_count": 17,
   "id": "bec561e5",
   "metadata": {},
   "outputs": [
    {
     "data": {
      "image/png": "[encoded data removed]",
      "text/plain": [
       "<Figure size 1080x360 with 1 Axes>"
      ]
     },
     "metadata": {
      "needs_background": "dark"
     },
     "output_type": "display_data"
    }
   ],
   "source": [
    "plt.figure(figsize=(15, 5))\n",
    "\n",
    "plt.plot(train_counter, train_accuracies, color='blue', label='Train')\n",
    "plt.plot(test_counter, test_accuracies, color='orange', label='Test')\n",
    "\n",
    "plt.setp(plt.title(\"Train/Test accuracy per # of images trained on\"), color='white')\n",
    "plt.setp(plt.xlabel(\"# of images trained on\"), color='white')\n",
    "plt.setp(plt.ylabel(\"Accuracy\"), color='white')\n",
    "\n",
    "plt.legend(loc='upper right')\n",
    "\n",
    "plt.ylim([0, max(train_accuracies + test_accuracies) * 1.1])\n",
    "\n",
    "plt.tick_params(colors='white')"
   ]
  },
  {
   "cell_type": "code",
   "execution_count": 13,
   "id": "49e8a2bd",
   "metadata": {},
   "outputs": [],
   "source": [
    "import os \n",
    "path = os.getcwd() + '\\\\mnist_classifier_model.pth'\n",
    "torch.save(model.state_dict(), path)"
   ]
  },
  {
   "cell_type": "code",
   "execution_count": 78,
   "id": "344ed44d",
   "metadata": {},
   "outputs": [
    {
     "data": {
      "image/png": "[encoded data removed]",
      "text/plain": [
       "<Figure size 432x288 with 1 Axes>"
      ]
     },
     "metadata": {
      "needs_background": "light"
     },
     "output_type": "display_data"
    }
   ],
   "source": [
    "with torch.no_grad():\n",
    "    model.eval()\n",
    "    it = iter(test_loader)\n",
    "    nx = next(it)\n",
    "    \n",
    "    img, label = nx\n",
    "    img = img[0].to(device)\n",
    "    label = label[0].item()\n",
    "\n",
    "    preds = model(img.unsqueeze(1))\n",
    "    pred = np.argmax(preds[0].cpu()).item()\n",
    "    \n",
    "    plt.imshow(img[0].cpu(), cmap=\"gray\")\n",
    "    title = f\"True: {label} | Pred: {pred}\"\n",
    "    plt.setp(plt.title(title), color=\"w\")\n",
    "    "
   ]
  }
 ],
 "metadata": {
  "kernelspec": {
   "display_name": "Python [conda env:pytorch_env]",
   "language": "python",
   "name": "conda-env-pytorch_env-py"
  },
  "language_info": {
   "codemirror_mode": {
    "name": "ipython",
    "version": 3
   },
   "file_extension": ".py",
   "mimetype": "text/x-python",
   "name": "python",
   "nbconvert_exporter": "python",
   "pygments_lexer": "ipython3",
   "version": "3.10.5"
  },
  "vscode": {
   "interpreter": {
    "hash": "bac1fd385f23147d8b13317d27b752544430f2fb69efac573cd70dfc8303fada"
   }
  }
 },
 "nbformat": 4,
 "nbformat_minor": 5
}
